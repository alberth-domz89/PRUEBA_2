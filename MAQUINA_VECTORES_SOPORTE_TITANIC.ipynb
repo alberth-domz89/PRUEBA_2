{
 "cells": [
  {
   "cell_type": "markdown",
   "id": "e34b2316",
   "metadata": {},
   "source": [
    "HOla aqui estyoy"
   ]
  },
  {
   "cell_type": "markdown",
   "id": "44bd157d",
   "metadata": {},
   "source": [
    "# **Ejercicio Práctico**\n",
    "## Predicción de la supervivencia a bordo del Titanic\n",
    "\n",
    "### Objetivo:\n",
    "\n",
    "### Usar los algoritmos de clasificación supervisada para predecir si un pasajero sobrevivió o no al hundimiento del Titanic, utilizando información como edad, sexo, clase, etc:"
   ]
  },
  {
   "cell_type": "markdown",
   "id": "20383718",
   "metadata": {},
   "source": [
    "### Modelos a usar:\n",
    "- Regresión Logística\n",
    "- K-Vecinos más Cercanos (KNN)\n",
    "- **Máquinas de Vectores de Soporte (SVC)**"
   ]
  },
  {
   "cell_type": "code",
   "execution_count": 61,
   "id": "6c012600",
   "metadata": {},
   "outputs": [
    {
     "data": {
      "text/html": [
       "<div>\n",
       "<style scoped>\n",
       "    .dataframe tbody tr th:only-of-type {\n",
       "        vertical-align: middle;\n",
       "    }\n",
       "\n",
       "    .dataframe tbody tr th {\n",
       "        vertical-align: top;\n",
       "    }\n",
       "\n",
       "    .dataframe thead th {\n",
       "        text-align: right;\n",
       "    }\n",
       "</style>\n",
       "<table border=\"1\" class=\"dataframe\">\n",
       "  <thead>\n",
       "    <tr style=\"text-align: right;\">\n",
       "      <th></th>\n",
       "      <th>PassengerId</th>\n",
       "      <th>Survived</th>\n",
       "      <th>Pclass</th>\n",
       "      <th>Name</th>\n",
       "      <th>Sex</th>\n",
       "      <th>Age</th>\n",
       "      <th>SibSp</th>\n",
       "      <th>Parch</th>\n",
       "      <th>Ticket</th>\n",
       "      <th>Fare</th>\n",
       "      <th>Cabin</th>\n",
       "      <th>Embarked</th>\n",
       "    </tr>\n",
       "  </thead>\n",
       "  <tbody>\n",
       "    <tr>\n",
       "      <th>0</th>\n",
       "      <td>1.0</td>\n",
       "      <td>0.0</td>\n",
       "      <td>3.0</td>\n",
       "      <td>108.0</td>\n",
       "      <td>1.0</td>\n",
       "      <td>22.0</td>\n",
       "      <td>1.0</td>\n",
       "      <td>0.0</td>\n",
       "      <td>523.0</td>\n",
       "      <td>7.2500</td>\n",
       "      <td>147.0</td>\n",
       "      <td>2.0</td>\n",
       "    </tr>\n",
       "    <tr>\n",
       "      <th>1</th>\n",
       "      <td>2.0</td>\n",
       "      <td>1.0</td>\n",
       "      <td>1.0</td>\n",
       "      <td>190.0</td>\n",
       "      <td>0.0</td>\n",
       "      <td>38.0</td>\n",
       "      <td>1.0</td>\n",
       "      <td>0.0</td>\n",
       "      <td>596.0</td>\n",
       "      <td>71.2833</td>\n",
       "      <td>81.0</td>\n",
       "      <td>0.0</td>\n",
       "    </tr>\n",
       "    <tr>\n",
       "      <th>2</th>\n",
       "      <td>3.0</td>\n",
       "      <td>1.0</td>\n",
       "      <td>3.0</td>\n",
       "      <td>353.0</td>\n",
       "      <td>0.0</td>\n",
       "      <td>26.0</td>\n",
       "      <td>0.0</td>\n",
       "      <td>0.0</td>\n",
       "      <td>669.0</td>\n",
       "      <td>7.9250</td>\n",
       "      <td>147.0</td>\n",
       "      <td>2.0</td>\n",
       "    </tr>\n",
       "    <tr>\n",
       "      <th>3</th>\n",
       "      <td>4.0</td>\n",
       "      <td>1.0</td>\n",
       "      <td>1.0</td>\n",
       "      <td>272.0</td>\n",
       "      <td>0.0</td>\n",
       "      <td>35.0</td>\n",
       "      <td>1.0</td>\n",
       "      <td>0.0</td>\n",
       "      <td>49.0</td>\n",
       "      <td>53.1000</td>\n",
       "      <td>55.0</td>\n",
       "      <td>2.0</td>\n",
       "    </tr>\n",
       "    <tr>\n",
       "      <th>4</th>\n",
       "      <td>5.0</td>\n",
       "      <td>0.0</td>\n",
       "      <td>3.0</td>\n",
       "      <td>15.0</td>\n",
       "      <td>1.0</td>\n",
       "      <td>35.0</td>\n",
       "      <td>0.0</td>\n",
       "      <td>0.0</td>\n",
       "      <td>472.0</td>\n",
       "      <td>8.0500</td>\n",
       "      <td>147.0</td>\n",
       "      <td>2.0</td>\n",
       "    </tr>\n",
       "    <tr>\n",
       "      <th>5</th>\n",
       "      <td>6.0</td>\n",
       "      <td>0.0</td>\n",
       "      <td>3.0</td>\n",
       "      <td>554.0</td>\n",
       "      <td>1.0</td>\n",
       "      <td>28.0</td>\n",
       "      <td>0.0</td>\n",
       "      <td>0.0</td>\n",
       "      <td>275.0</td>\n",
       "      <td>8.4583</td>\n",
       "      <td>147.0</td>\n",
       "      <td>1.0</td>\n",
       "    </tr>\n",
       "    <tr>\n",
       "      <th>6</th>\n",
       "      <td>7.0</td>\n",
       "      <td>0.0</td>\n",
       "      <td>1.0</td>\n",
       "      <td>515.0</td>\n",
       "      <td>1.0</td>\n",
       "      <td>54.0</td>\n",
       "      <td>0.0</td>\n",
       "      <td>0.0</td>\n",
       "      <td>85.0</td>\n",
       "      <td>51.8625</td>\n",
       "      <td>129.0</td>\n",
       "      <td>2.0</td>\n",
       "    </tr>\n",
       "    <tr>\n",
       "      <th>7</th>\n",
       "      <td>8.0</td>\n",
       "      <td>0.0</td>\n",
       "      <td>3.0</td>\n",
       "      <td>624.0</td>\n",
       "      <td>1.0</td>\n",
       "      <td>2.0</td>\n",
       "      <td>3.0</td>\n",
       "      <td>1.0</td>\n",
       "      <td>395.0</td>\n",
       "      <td>21.0750</td>\n",
       "      <td>147.0</td>\n",
       "      <td>2.0</td>\n",
       "    </tr>\n",
       "    <tr>\n",
       "      <th>8</th>\n",
       "      <td>9.0</td>\n",
       "      <td>1.0</td>\n",
       "      <td>3.0</td>\n",
       "      <td>412.0</td>\n",
       "      <td>0.0</td>\n",
       "      <td>27.0</td>\n",
       "      <td>0.0</td>\n",
       "      <td>2.0</td>\n",
       "      <td>344.0</td>\n",
       "      <td>11.1333</td>\n",
       "      <td>147.0</td>\n",
       "      <td>2.0</td>\n",
       "    </tr>\n",
       "    <tr>\n",
       "      <th>9</th>\n",
       "      <td>10.0</td>\n",
       "      <td>1.0</td>\n",
       "      <td>2.0</td>\n",
       "      <td>576.0</td>\n",
       "      <td>0.0</td>\n",
       "      <td>14.0</td>\n",
       "      <td>1.0</td>\n",
       "      <td>0.0</td>\n",
       "      <td>132.0</td>\n",
       "      <td>30.0708</td>\n",
       "      <td>147.0</td>\n",
       "      <td>0.0</td>\n",
       "    </tr>\n",
       "  </tbody>\n",
       "</table>\n",
       "</div>"
      ],
      "text/plain": [
       "   PassengerId  Survived  Pclass   Name  ...  Ticket     Fare  Cabin  Embarked\n",
       "0          1.0       0.0     3.0  108.0  ...   523.0   7.2500  147.0       2.0\n",
       "1          2.0       1.0     1.0  190.0  ...   596.0  71.2833   81.0       0.0\n",
       "2          3.0       1.0     3.0  353.0  ...   669.0   7.9250  147.0       2.0\n",
       "3          4.0       1.0     1.0  272.0  ...    49.0  53.1000   55.0       2.0\n",
       "4          5.0       0.0     3.0   15.0  ...   472.0   8.0500  147.0       2.0\n",
       "5          6.0       0.0     3.0  554.0  ...   275.0   8.4583  147.0       1.0\n",
       "6          7.0       0.0     1.0  515.0  ...    85.0  51.8625  129.0       2.0\n",
       "7          8.0       0.0     3.0  624.0  ...   395.0  21.0750  147.0       2.0\n",
       "8          9.0       1.0     3.0  412.0  ...   344.0  11.1333  147.0       2.0\n",
       "9         10.0       1.0     2.0  576.0  ...   132.0  30.0708  147.0       0.0\n",
       "\n",
       "[10 rows x 12 columns]"
      ]
     },
     "execution_count": 61,
     "metadata": {},
     "output_type": "execute_result"
    }
   ],
   "source": [
    "# Importamos librerías\n",
    "import pandas as pd\n",
    "import numpy as np\n",
    "\n",
    "# Leemos el DataSet\n",
    "df = pd.read_csv(\"C:/Users/Administrador/OneDrive/BOOTCAMP/MACHINE_LEARNING/SCIKITLEARN/DataSet_Titanic.csv\", encoding=\"utf-8-sig\")\n",
    "\n",
    "x = df.drop(columns=[\"Survived\"]) # Eliminamos la columna \"Survived\" para crear el conjunto de datos de entrada\n",
    "y = df[\"Survived\"] # Creamos el conjunto de datos de salida\n",
    "df.head(10) # Mostramos las primeras 10 filas del DataFrame"
   ]
  },
  {
   "cell_type": "markdown",
   "id": "e6d8a7ae",
   "metadata": {},
   "source": [
    "### Importamos las librerias necesarias para usar el modelo"
   ]
  },
  {
   "cell_type": "code",
   "execution_count": 62,
   "id": "e38b316b",
   "metadata": {},
   "outputs": [],
   "source": [
    "from sklearn.model_selection import train_test_split\n",
    "from sklearn.svm import SVC\n",
    "from sklearn.preprocessing import StandardScaler\n",
    "from sklearn.metrics import accuracy_score, confusion_matrix, precision_score, recall_score, f1_score\n",
    "import matplotlib.pyplot as plt\n",
    "from sklearn.metrics import confusion_matrix\n",
    "import seaborn as sns\n",
    "\n"
   ]
  },
  {
   "cell_type": "markdown",
   "id": "e5c9e263",
   "metadata": {},
   "source": [
    "### Dividimos los datos en entrenamiento y prueba:"
   ]
  },
  {
   "cell_type": "code",
   "execution_count": 63,
   "id": "90a733a6",
   "metadata": {},
   "outputs": [],
   "source": [
    "X_train, X_test, y_train, y_test = train_test_split(x, y, test_size=0.2, random_state=42)"
   ]
  },
  {
   "cell_type": "markdown",
   "id": "a8dd28cb",
   "metadata": {},
   "source": [
    "### Estandarizamos los datos:"
   ]
  },
  {
   "cell_type": "code",
   "execution_count": 64,
   "id": "004df6b8",
   "metadata": {},
   "outputs": [],
   "source": [
    "scaler = StandardScaler()\n",
    "X_train = scaler.fit_transform(X_train)\n",
    "X_test = scaler.transform(X_test)"
   ]
  },
  {
   "cell_type": "markdown",
   "id": "3455adce",
   "metadata": {},
   "source": [
    "### Aplicación del Algoritmo:"
   ]
  },
  {
   "cell_type": "code",
   "execution_count": 65,
   "id": "174df312",
   "metadata": {},
   "outputs": [],
   "source": [
    "algoritmo = SVC(kernel=\"linear\", C=1.0, random_state=42)"
   ]
  },
  {
   "cell_type": "markdown",
   "id": "d1e6b88f",
   "metadata": {},
   "source": [
    "### Entrenamiento del modelo y realizamos predicción:"
   ]
  },
  {
   "cell_type": "code",
   "execution_count": 66,
   "id": "ceda19f5",
   "metadata": {},
   "outputs": [],
   "source": [
    "algoritmo.fit(X_train, y_train)\n",
    "y_pred = algoritmo.predict(X_test)"
   ]
  },
  {
   "cell_type": "markdown",
   "id": "9ae8281f",
   "metadata": {},
   "source": [
    "### Evaluaremos el la precisión:"
   ]
  },
  {
   "cell_type": "code",
   "execution_count": 67,
   "id": "2ba722e0",
   "metadata": {},
   "outputs": [
    {
     "name": "stdout",
     "output_type": "stream",
     "text": [
      "Precisión del modelo: 78.21%\n"
     ]
    }
   ],
   "source": [
    "accuracy = accuracy_score(y_test, y_pred)\n",
    "print(f\"Precisión del modelo: {accuracy * 100:.2f}%\")"
   ]
  },
  {
   "cell_type": "markdown",
   "id": "3968f548",
   "metadata": {},
   "source": [
    "### Evaluación de la presición:"
   ]
  },
  {
   "cell_type": "code",
   "execution_count": 68,
   "id": "2eeae277",
   "metadata": {},
   "outputs": [
    {
     "name": "stdout",
     "output_type": "stream",
     "text": [
      "Precisión del modelo: 75.36%\n"
     ]
    }
   ],
   "source": [
    "precision = precision_score(y_test, y_pred)\n",
    "print(f\"Precisión del modelo: {precision * 100:.2f}%\")\n"
   ]
  },
  {
   "cell_type": "markdown",
   "id": "33c9d8ba",
   "metadata": {},
   "source": [
    "### Recall de los datos:\n",
    "### *Métrica que mide la capacidad del modelo para identificar correctamente todas las instancias positivas.*"
   ]
  },
  {
   "cell_type": "code",
   "execution_count": 69,
   "id": "6d74337f",
   "metadata": {},
   "outputs": [
    {
     "name": "stdout",
     "output_type": "stream",
     "text": [
      "Recall del modelo: 70.27%\n"
     ]
    }
   ],
   "source": [
    "recall = recall_score(y_test, y_pred)\n",
    "print(f\"Recall del modelo: {recall * 100:.2f}%\")"
   ]
  },
  {
   "cell_type": "markdown",
   "id": "af6a00ed",
   "metadata": {},
   "source": [
    "### Gráfica de matriz de confusión SVM:"
   ]
  },
  {
   "cell_type": "code",
   "execution_count": 70,
   "id": "e8be0337",
   "metadata": {},
   "outputs": [
    {
     "data": {
      "image/png": "[encoded data removed]",
      "text/plain": [
       "<Figure size 640x480 with 2 Axes>"
      ]
     },
     "metadata": {},
     "output_type": "display_data"
    }
   ],
   "source": [
    "cm = confusion_matrix(y_test, y_pred)\n",
    "sns.heatmap(cm, annot=True, fmt='d', cmap='Blues')\n",
    "plt.xlabel(\"Predicción\")\n",
    "plt.ylabel(\"Valor Real\")\n",
    "plt.title(\"Matriz de Confusión\")\n",
    "plt.show()"
   ]
  },
  {
   "cell_type": "markdown",
   "id": "f5d9cba7",
   "metadata": {},
   "source": [
    "### *Resultado: matriz de confusión:*\n",
    "\n",
    "- 88 (Verdaderos negativos - TN): Casos donde el modelo correctamente predijo la clase 0.\n",
    "- 17 (Falsos positivos - FP): Casos donde el modelo predijo 1, pero el valor real era 0.\n",
    "- 22 (Falsos negativos - FN): Casos donde el modelo predijo 0, pero el valor real era 1.\n",
    "- 52 (Verdaderos positivos - TP): Casos donde el modelo correctamente predijo la clase 1."
   ]
  }
 ],
 "metadata": {
  "kernelspec": {
   "display_name": ".venv",
   "language": "python",
   "name": "python3"
  },
  "language_info": {
   "codemirror_mode": {
    "name": "ipython",
    "version": 3
   },
   "file_extension": ".py",
   "mimetype": "text/x-python",
   "name": "python",
   "nbconvert_exporter": "python",
   "pygments_lexer": "ipython3",
   "version": "3.12.10"
  }
 },
 "nbformat": 4,
 "nbformat_minor": 5
}
